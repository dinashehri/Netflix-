{
 "cells": [
  {
   "cell_type": "markdown",
   "id": "e5de4aa7",
   "metadata": {},
   "source": [
    "# ABSTRACT \n",
    "The project will be on predicting Netflix Movies and TV Shows based on personal history viewing using recommendation system. In order to help understand people preference and how Netflix shape similar catalog of movies and TV shows using genres, title, and release year as features. Netflix Main business is its subscription-based streaming service, which provide online streaming of a collection of films and television series, including those produced in-house. The project is using TV Shows and Movies listed on the Netflix dataset from Kaggle. First, Exploratory Data Analysis (EDA) will be presented to understand and describe the data in a better way through interactive graphs and visualizations. After that, a recommendation engine for Movies and TV shows on Netflix is demonstrated."
   ]
  },
  {
   "cell_type": "code",
   "execution_count": 43,
   "id": "80fc5331",
   "metadata": {},
   "outputs": [],
   "source": [
    "import numpy as np \n",
    "import pandas as pd \n",
    "import matplotlib.pyplot as plt\n",
    "import seaborn as sns\n",
    "import matplotlib.pyplot as plt\n",
    "import nltk\n",
    "import re\n",
    "from nltk.stem import WordNetLemmatizer\n",
    "from nltk.corpus import stopwords\n",
    "from sklearn.metrics.pairwise import cosine_similarity\n",
    "from sklearn.feature_extraction.text import CountVectorizer\n",
    "import re\n",
    "from sklearn.feature_extraction.text import TfidfVectorizer\n",
    "import warnings\n",
    "import collections\n",
    "warnings.filterwarnings('ignore')\n"
   ]
  },
  {
   "cell_type": "code",
   "execution_count": 44,
   "id": "915733f4",
   "metadata": {},
   "outputs": [],
   "source": [
    "netflix=pd.read_csv(\"/Users/dina/Desktop/PROJECT/netflix_titles.csv\")"
   ]
  },
  {
   "cell_type": "code",
   "execution_count": 45,
   "id": "9ee0c7ce",
   "metadata": {
    "scrolled": true
   },
   "outputs": [
    {
     "data": {
      "text/html": [
       "<div>\n",
       "<style scoped>\n",
       "    .dataframe tbody tr th:only-of-type {\n",
       "        vertical-align: middle;\n",
       "    }\n",
       "\n",
       "    .dataframe tbody tr th {\n",
       "        vertical-align: top;\n",
       "    }\n",
       "\n",
       "    .dataframe thead th {\n",
       "        text-align: right;\n",
       "    }\n",
       "</style>\n",
       "<table border=\"1\" class=\"dataframe\">\n",
       "  <thead>\n",
       "    <tr style=\"text-align: right;\">\n",
       "      <th></th>\n",
       "      <th>show_id</th>\n",
       "      <th>type</th>\n",
       "      <th>title</th>\n",
       "      <th>director</th>\n",
       "      <th>cast</th>\n",
       "      <th>country</th>\n",
       "      <th>date_added</th>\n",
       "      <th>release_year</th>\n",
       "      <th>rating</th>\n",
       "      <th>duration</th>\n",
       "      <th>listed_in</th>\n",
       "      <th>description</th>\n",
       "    </tr>\n",
       "  </thead>\n",
       "  <tbody>\n",
       "    <tr>\n",
       "      <th>0</th>\n",
       "      <td>s1</td>\n",
       "      <td>Movie</td>\n",
       "      <td>Dick Johnson Is Dead</td>\n",
       "      <td>Kirsten Johnson</td>\n",
       "      <td>NaN</td>\n",
       "      <td>United States</td>\n",
       "      <td>September 25, 2021</td>\n",
       "      <td>2020</td>\n",
       "      <td>PG-13</td>\n",
       "      <td>90 min</td>\n",
       "      <td>Documentaries</td>\n",
       "      <td>As her father nears the end of his life, filmm...</td>\n",
       "    </tr>\n",
       "    <tr>\n",
       "      <th>1</th>\n",
       "      <td>s2</td>\n",
       "      <td>TV Show</td>\n",
       "      <td>Blood &amp; Water</td>\n",
       "      <td>NaN</td>\n",
       "      <td>Ama Qamata, Khosi Ngema, Gail Mabalane, Thaban...</td>\n",
       "      <td>South Africa</td>\n",
       "      <td>September 24, 2021</td>\n",
       "      <td>2021</td>\n",
       "      <td>TV-MA</td>\n",
       "      <td>2 Seasons</td>\n",
       "      <td>International TV Shows, TV Dramas, TV Mysteries</td>\n",
       "      <td>After crossing paths at a party, a Cape Town t...</td>\n",
       "    </tr>\n",
       "    <tr>\n",
       "      <th>2</th>\n",
       "      <td>s3</td>\n",
       "      <td>TV Show</td>\n",
       "      <td>Ganglands</td>\n",
       "      <td>Julien Leclercq</td>\n",
       "      <td>Sami Bouajila, Tracy Gotoas, Samuel Jouy, Nabi...</td>\n",
       "      <td>NaN</td>\n",
       "      <td>September 24, 2021</td>\n",
       "      <td>2021</td>\n",
       "      <td>TV-MA</td>\n",
       "      <td>1 Season</td>\n",
       "      <td>Crime TV Shows, International TV Shows, TV Act...</td>\n",
       "      <td>To protect his family from a powerful drug lor...</td>\n",
       "    </tr>\n",
       "    <tr>\n",
       "      <th>3</th>\n",
       "      <td>s4</td>\n",
       "      <td>TV Show</td>\n",
       "      <td>Jailbirds New Orleans</td>\n",
       "      <td>NaN</td>\n",
       "      <td>NaN</td>\n",
       "      <td>NaN</td>\n",
       "      <td>September 24, 2021</td>\n",
       "      <td>2021</td>\n",
       "      <td>TV-MA</td>\n",
       "      <td>1 Season</td>\n",
       "      <td>Docuseries, Reality TV</td>\n",
       "      <td>Feuds, flirtations and toilet talk go down amo...</td>\n",
       "    </tr>\n",
       "    <tr>\n",
       "      <th>4</th>\n",
       "      <td>s5</td>\n",
       "      <td>TV Show</td>\n",
       "      <td>Kota Factory</td>\n",
       "      <td>NaN</td>\n",
       "      <td>Mayur More, Jitendra Kumar, Ranjan Raj, Alam K...</td>\n",
       "      <td>India</td>\n",
       "      <td>September 24, 2021</td>\n",
       "      <td>2021</td>\n",
       "      <td>TV-MA</td>\n",
       "      <td>2 Seasons</td>\n",
       "      <td>International TV Shows, Romantic TV Shows, TV ...</td>\n",
       "      <td>In a city of coaching centers known to train I...</td>\n",
       "    </tr>\n",
       "  </tbody>\n",
       "</table>\n",
       "</div>"
      ],
      "text/plain": [
       "  show_id     type                  title         director  \\\n",
       "0      s1    Movie   Dick Johnson Is Dead  Kirsten Johnson   \n",
       "1      s2  TV Show          Blood & Water              NaN   \n",
       "2      s3  TV Show              Ganglands  Julien Leclercq   \n",
       "3      s4  TV Show  Jailbirds New Orleans              NaN   \n",
       "4      s5  TV Show           Kota Factory              NaN   \n",
       "\n",
       "                                                cast        country  \\\n",
       "0                                                NaN  United States   \n",
       "1  Ama Qamata, Khosi Ngema, Gail Mabalane, Thaban...   South Africa   \n",
       "2  Sami Bouajila, Tracy Gotoas, Samuel Jouy, Nabi...            NaN   \n",
       "3                                                NaN            NaN   \n",
       "4  Mayur More, Jitendra Kumar, Ranjan Raj, Alam K...          India   \n",
       "\n",
       "           date_added  release_year rating   duration  \\\n",
       "0  September 25, 2021          2020  PG-13     90 min   \n",
       "1  September 24, 2021          2021  TV-MA  2 Seasons   \n",
       "2  September 24, 2021          2021  TV-MA   1 Season   \n",
       "3  September 24, 2021          2021  TV-MA   1 Season   \n",
       "4  September 24, 2021          2021  TV-MA  2 Seasons   \n",
       "\n",
       "                                           listed_in  \\\n",
       "0                                      Documentaries   \n",
       "1    International TV Shows, TV Dramas, TV Mysteries   \n",
       "2  Crime TV Shows, International TV Shows, TV Act...   \n",
       "3                             Docuseries, Reality TV   \n",
       "4  International TV Shows, Romantic TV Shows, TV ...   \n",
       "\n",
       "                                         description  \n",
       "0  As her father nears the end of his life, filmm...  \n",
       "1  After crossing paths at a party, a Cape Town t...  \n",
       "2  To protect his family from a powerful drug lor...  \n",
       "3  Feuds, flirtations and toilet talk go down amo...  \n",
       "4  In a city of coaching centers known to train I...  "
      ]
     },
     "execution_count": 45,
     "metadata": {},
     "output_type": "execute_result"
    }
   ],
   "source": [
    "netflix.head()"
   ]
  },
  {
   "cell_type": "code",
   "execution_count": 46,
   "id": "5afaac8e",
   "metadata": {},
   "outputs": [
    {
     "data": {
      "text/html": [
       "<div>\n",
       "<style scoped>\n",
       "    .dataframe tbody tr th:only-of-type {\n",
       "        vertical-align: middle;\n",
       "    }\n",
       "\n",
       "    .dataframe tbody tr th {\n",
       "        vertical-align: top;\n",
       "    }\n",
       "\n",
       "    .dataframe thead th {\n",
       "        text-align: right;\n",
       "    }\n",
       "</style>\n",
       "<table border=\"1\" class=\"dataframe\">\n",
       "  <thead>\n",
       "    <tr style=\"text-align: right;\">\n",
       "      <th></th>\n",
       "      <th>show_id</th>\n",
       "      <th>type</th>\n",
       "      <th>title</th>\n",
       "      <th>director</th>\n",
       "      <th>cast</th>\n",
       "      <th>country</th>\n",
       "      <th>date_added</th>\n",
       "      <th>release_year</th>\n",
       "      <th>rating</th>\n",
       "      <th>duration</th>\n",
       "      <th>listed_in</th>\n",
       "      <th>description</th>\n",
       "    </tr>\n",
       "  </thead>\n",
       "  <tbody>\n",
       "    <tr>\n",
       "      <th>8802</th>\n",
       "      <td>s8803</td>\n",
       "      <td>Movie</td>\n",
       "      <td>Zodiac</td>\n",
       "      <td>David Fincher</td>\n",
       "      <td>Mark Ruffalo, Jake Gyllenhaal, Robert Downey J...</td>\n",
       "      <td>United States</td>\n",
       "      <td>November 20, 2019</td>\n",
       "      <td>2007</td>\n",
       "      <td>R</td>\n",
       "      <td>158 min</td>\n",
       "      <td>Cult Movies, Dramas, Thrillers</td>\n",
       "      <td>A political cartoonist, a crime reporter and a...</td>\n",
       "    </tr>\n",
       "    <tr>\n",
       "      <th>8803</th>\n",
       "      <td>s8804</td>\n",
       "      <td>TV Show</td>\n",
       "      <td>Zombie Dumb</td>\n",
       "      <td>NaN</td>\n",
       "      <td>NaN</td>\n",
       "      <td>NaN</td>\n",
       "      <td>July 1, 2019</td>\n",
       "      <td>2018</td>\n",
       "      <td>TV-Y7</td>\n",
       "      <td>2 Seasons</td>\n",
       "      <td>Kids' TV, Korean TV Shows, TV Comedies</td>\n",
       "      <td>While living alone in a spooky town, a young g...</td>\n",
       "    </tr>\n",
       "    <tr>\n",
       "      <th>8804</th>\n",
       "      <td>s8805</td>\n",
       "      <td>Movie</td>\n",
       "      <td>Zombieland</td>\n",
       "      <td>Ruben Fleischer</td>\n",
       "      <td>Jesse Eisenberg, Woody Harrelson, Emma Stone, ...</td>\n",
       "      <td>United States</td>\n",
       "      <td>November 1, 2019</td>\n",
       "      <td>2009</td>\n",
       "      <td>R</td>\n",
       "      <td>88 min</td>\n",
       "      <td>Comedies, Horror Movies</td>\n",
       "      <td>Looking to survive in a world taken over by zo...</td>\n",
       "    </tr>\n",
       "    <tr>\n",
       "      <th>8805</th>\n",
       "      <td>s8806</td>\n",
       "      <td>Movie</td>\n",
       "      <td>Zoom</td>\n",
       "      <td>Peter Hewitt</td>\n",
       "      <td>Tim Allen, Courteney Cox, Chevy Chase, Kate Ma...</td>\n",
       "      <td>United States</td>\n",
       "      <td>January 11, 2020</td>\n",
       "      <td>2006</td>\n",
       "      <td>PG</td>\n",
       "      <td>88 min</td>\n",
       "      <td>Children &amp; Family Movies, Comedies</td>\n",
       "      <td>Dragged from civilian life, a former superhero...</td>\n",
       "    </tr>\n",
       "    <tr>\n",
       "      <th>8806</th>\n",
       "      <td>s8807</td>\n",
       "      <td>Movie</td>\n",
       "      <td>Zubaan</td>\n",
       "      <td>Mozez Singh</td>\n",
       "      <td>Vicky Kaushal, Sarah-Jane Dias, Raaghav Chanan...</td>\n",
       "      <td>India</td>\n",
       "      <td>March 2, 2019</td>\n",
       "      <td>2015</td>\n",
       "      <td>TV-14</td>\n",
       "      <td>111 min</td>\n",
       "      <td>Dramas, International Movies, Music &amp; Musicals</td>\n",
       "      <td>A scrappy but poor boy worms his way into a ty...</td>\n",
       "    </tr>\n",
       "  </tbody>\n",
       "</table>\n",
       "</div>"
      ],
      "text/plain": [
       "     show_id     type        title         director  \\\n",
       "8802   s8803    Movie       Zodiac    David Fincher   \n",
       "8803   s8804  TV Show  Zombie Dumb              NaN   \n",
       "8804   s8805    Movie   Zombieland  Ruben Fleischer   \n",
       "8805   s8806    Movie         Zoom     Peter Hewitt   \n",
       "8806   s8807    Movie       Zubaan      Mozez Singh   \n",
       "\n",
       "                                                   cast        country  \\\n",
       "8802  Mark Ruffalo, Jake Gyllenhaal, Robert Downey J...  United States   \n",
       "8803                                                NaN            NaN   \n",
       "8804  Jesse Eisenberg, Woody Harrelson, Emma Stone, ...  United States   \n",
       "8805  Tim Allen, Courteney Cox, Chevy Chase, Kate Ma...  United States   \n",
       "8806  Vicky Kaushal, Sarah-Jane Dias, Raaghav Chanan...          India   \n",
       "\n",
       "             date_added  release_year rating   duration  \\\n",
       "8802  November 20, 2019          2007      R    158 min   \n",
       "8803       July 1, 2019          2018  TV-Y7  2 Seasons   \n",
       "8804   November 1, 2019          2009      R     88 min   \n",
       "8805   January 11, 2020          2006     PG     88 min   \n",
       "8806      March 2, 2019          2015  TV-14    111 min   \n",
       "\n",
       "                                           listed_in  \\\n",
       "8802                  Cult Movies, Dramas, Thrillers   \n",
       "8803          Kids' TV, Korean TV Shows, TV Comedies   \n",
       "8804                         Comedies, Horror Movies   \n",
       "8805              Children & Family Movies, Comedies   \n",
       "8806  Dramas, International Movies, Music & Musicals   \n",
       "\n",
       "                                            description  \n",
       "8802  A political cartoonist, a crime reporter and a...  \n",
       "8803  While living alone in a spooky town, a young g...  \n",
       "8804  Looking to survive in a world taken over by zo...  \n",
       "8805  Dragged from civilian life, a former superhero...  \n",
       "8806  A scrappy but poor boy worms his way into a ty...  "
      ]
     },
     "execution_count": 46,
     "metadata": {},
     "output_type": "execute_result"
    }
   ],
   "source": [
    "netflix.tail()"
   ]
  },
  {
   "cell_type": "code",
   "execution_count": 47,
   "id": "1d0354ce",
   "metadata": {},
   "outputs": [
    {
     "data": {
      "text/plain": [
       "(8807, 12)"
      ]
     },
     "execution_count": 47,
     "metadata": {},
     "output_type": "execute_result"
    }
   ],
   "source": [
    "netflix.shape"
   ]
  },
  {
   "cell_type": "markdown",
   "id": "94fdbeb3",
   "metadata": {},
   "source": [
    "# Data Description:\n",
    "Primarily there 8807 records in 12 columns.\n",
    "\n",
    "FEATURES:\n",
    "\n",
    "- show_id: unique id of each show\n",
    "- type: The category of a show, can be either a Movie or a TV Show\n",
    "- title: Name of the show\n",
    "- director: Name of the director(s) of the show\n",
    "- cast: Name of actors and other cast of the show\n",
    "- country: Name of countries the show is available to watch on Netflix\n",
    "- date_added: Date when the show was added on Netflix\n",
    "- release_year: Release year of the show\n",
    "- rating: Show rating on netflix\n",
    "- duration: Time duration of the show\n",
    "- listed_in: Genre of the show\n",
    "- description: Some text describing the show"
   ]
  },
  {
   "cell_type": "code",
   "execution_count": 48,
   "id": "23473bcf",
   "metadata": {},
   "outputs": [
    {
     "data": {
      "text/html": [
       "<div>\n",
       "<style scoped>\n",
       "    .dataframe tbody tr th:only-of-type {\n",
       "        vertical-align: middle;\n",
       "    }\n",
       "\n",
       "    .dataframe tbody tr th {\n",
       "        vertical-align: top;\n",
       "    }\n",
       "\n",
       "    .dataframe thead th {\n",
       "        text-align: right;\n",
       "    }\n",
       "</style>\n",
       "<table border=\"1\" class=\"dataframe\">\n",
       "  <thead>\n",
       "    <tr style=\"text-align: right;\">\n",
       "      <th></th>\n",
       "      <th>release_year</th>\n",
       "    </tr>\n",
       "  </thead>\n",
       "  <tbody>\n",
       "    <tr>\n",
       "      <th>count</th>\n",
       "      <td>8807.000000</td>\n",
       "    </tr>\n",
       "    <tr>\n",
       "      <th>mean</th>\n",
       "      <td>2014.180198</td>\n",
       "    </tr>\n",
       "    <tr>\n",
       "      <th>std</th>\n",
       "      <td>8.819312</td>\n",
       "    </tr>\n",
       "    <tr>\n",
       "      <th>min</th>\n",
       "      <td>1925.000000</td>\n",
       "    </tr>\n",
       "    <tr>\n",
       "      <th>25%</th>\n",
       "      <td>2013.000000</td>\n",
       "    </tr>\n",
       "    <tr>\n",
       "      <th>50%</th>\n",
       "      <td>2017.000000</td>\n",
       "    </tr>\n",
       "    <tr>\n",
       "      <th>75%</th>\n",
       "      <td>2019.000000</td>\n",
       "    </tr>\n",
       "    <tr>\n",
       "      <th>max</th>\n",
       "      <td>2021.000000</td>\n",
       "    </tr>\n",
       "  </tbody>\n",
       "</table>\n",
       "</div>"
      ],
      "text/plain": [
       "       release_year\n",
       "count   8807.000000\n",
       "mean    2014.180198\n",
       "std        8.819312\n",
       "min     1925.000000\n",
       "25%     2013.000000\n",
       "50%     2017.000000\n",
       "75%     2019.000000\n",
       "max     2021.000000"
      ]
     },
     "execution_count": 48,
     "metadata": {},
     "output_type": "execute_result"
    }
   ],
   "source": [
    "netflix.describe()"
   ]
  },
  {
   "cell_type": "code",
   "execution_count": 49,
   "id": "022dda7a",
   "metadata": {},
   "outputs": [
    {
     "data": {
      "text/plain": [
       "0"
      ]
     },
     "execution_count": 49,
     "metadata": {},
     "output_type": "execute_result"
    }
   ],
   "source": [
    "netflix.duplicated().sum()"
   ]
  },
  {
   "cell_type": "markdown",
   "id": "fd994d0a",
   "metadata": {},
   "source": [
    "# Data Preparation and Cleaning"
   ]
  },
  {
   "cell_type": "markdown",
   "id": "a4c87e0e",
   "metadata": {},
   "source": [
    "Identifying incorrect, incomplete, inaccurate, irrelevant, or missing pieces of data and then modifying, replacing, or deleting them as needed. Data Cleansing is considered as the basic element of Data Science."
   ]
  },
  {
   "cell_type": "code",
   "execution_count": 50,
   "id": "14ce240f",
   "metadata": {},
   "outputs": [
    {
     "name": "stdout",
     "output_type": "stream",
     "text": [
      "<class 'pandas.core.frame.DataFrame'>\n",
      "RangeIndex: 8807 entries, 0 to 8806\n",
      "Data columns (total 12 columns):\n",
      " #   Column        Non-Null Count  Dtype \n",
      "---  ------        --------------  ----- \n",
      " 0   show_id       8807 non-null   object\n",
      " 1   type          8807 non-null   object\n",
      " 2   title         8807 non-null   object\n",
      " 3   director      6173 non-null   object\n",
      " 4   cast          7982 non-null   object\n",
      " 5   country       7976 non-null   object\n",
      " 6   date_added    8797 non-null   object\n",
      " 7   release_year  8807 non-null   int64 \n",
      " 8   rating        8803 non-null   object\n",
      " 9   duration      8804 non-null   object\n",
      " 10  listed_in     8807 non-null   object\n",
      " 11  description   8807 non-null   object\n",
      "dtypes: int64(1), object(11)\n",
      "memory usage: 825.8+ KB\n"
     ]
    }
   ],
   "source": [
    "netflix.info()"
   ]
  },
  {
   "cell_type": "markdown",
   "id": "64d95cd7",
   "metadata": {},
   "source": [
    "From the info, we know that there are 8807 entries and 12 columns to work with for this EDA. There are a few columns that contain null values, \"director\", \"cast\", \"country\", \"date_added\", \"rating\"."
   ]
  },
  {
   "cell_type": "markdown",
   "id": "bc6c9f67",
   "metadata": {},
   "source": [
    "Columns that have missing value"
   ]
  },
  {
   "cell_type": "code",
   "execution_count": 51,
   "id": "00be6258",
   "metadata": {},
   "outputs": [
    {
     "name": "stdout",
     "output_type": "stream",
     "text": [
      "\n",
      "Columns with missing value:\n",
      "show_id         False\n",
      "type            False\n",
      "title           False\n",
      "director         True\n",
      "cast             True\n",
      "country          True\n",
      "date_added       True\n",
      "release_year    False\n",
      "rating           True\n",
      "duration         True\n",
      "listed_in       False\n",
      "description     False\n",
      "dtype: bool\n"
     ]
    }
   ],
   "source": [
    "print('\\nColumns with missing value:')\n",
    "print(netflix.isnull().any())"
   ]
  },
  {
   "cell_type": "code",
   "execution_count": 52,
   "id": "89f52735",
   "metadata": {},
   "outputs": [
    {
     "data": {
      "text/plain": [
       "show_id            0\n",
       "type               0\n",
       "title              0\n",
       "director        2634\n",
       "cast             825\n",
       "country          831\n",
       "date_added        10\n",
       "release_year       0\n",
       "rating             4\n",
       "duration           3\n",
       "listed_in          0\n",
       "description        0\n",
       "dtype: int64"
      ]
     },
     "execution_count": 52,
     "metadata": {},
     "output_type": "execute_result"
    }
   ],
   "source": [
    "netflix.T.apply(lambda x: x.isnull().sum(), axis = 1)"
   ]
  },
  {
   "cell_type": "code",
   "execution_count": 53,
   "id": "563c7255",
   "metadata": {},
   "outputs": [
    {
     "data": {
      "text/plain": [
       "4307"
      ]
     },
     "execution_count": 53,
     "metadata": {},
     "output_type": "execute_result"
    }
   ],
   "source": [
    "netflix.isnull().sum().sum()"
   ]
  },
  {
   "cell_type": "markdown",
   "id": "9460ece4",
   "metadata": {},
   "source": [
    "There are a total of 4,307 null values across the entire dataset with 2,634 missing points under \"director\", 825 under \"cast\", 831 under \"country\", 10 under \"date_added\", and 4 under \"rating\". We will have to handle all null data points before we can dive into EDA and modeling."
   ]
  },
  {
   "cell_type": "markdown",
   "id": "6dac1913",
   "metadata": {},
   "source": [
    "Imputation is used as a treatment method for missing value in this project by filling it In this module,I used the fillna function from Pandas for this imputation. Drop rows containing missing values. Can use the dropna function from Pandas"
   ]
  },
  {
   "cell_type": "code",
   "execution_count": 54,
   "id": "7423dabe",
   "metadata": {},
   "outputs": [],
   "source": [
    "netflix.director.fillna(\"No Director\", inplace=True)\n",
    "netflix.cast.fillna(\"No Cast\", inplace=True)\n",
    "netflix.country.fillna(\"Country Unavailable\", inplace=True)\n",
    "netflix.dropna(subset=[\"date_added\", \"rating\"], inplace=True)"
   ]
  },
  {
   "cell_type": "markdown",
   "id": "9b57e11e",
   "metadata": {},
   "source": [
    "Check missing value"
   ]
  },
  {
   "cell_type": "code",
   "execution_count": 55,
   "id": "bce8a4da",
   "metadata": {},
   "outputs": [
    {
     "data": {
      "text/plain": [
       "show_id         False\n",
       "type            False\n",
       "title           False\n",
       "director        False\n",
       "cast            False\n",
       "country         False\n",
       "date_added      False\n",
       "release_year    False\n",
       "rating          False\n",
       "duration         True\n",
       "listed_in       False\n",
       "description     False\n",
       "dtype: bool"
      ]
     },
     "execution_count": 55,
     "metadata": {},
     "output_type": "execute_result"
    }
   ],
   "source": [
    "netflix.isnull().any()"
   ]
  },
  {
   "cell_type": "markdown",
   "id": "048f4928",
   "metadata": {},
   "source": [
    "For missing values, the easiest way to get rid of them would be to delete the rows with the missing data. However, this wouldn't be beneficial to our EDA since the is a loss of information. Since \"director\", \"cast\", and \"country\" contain the majority of null values, we chose to treat each missing value is unavailable. The other two label \"date_added\" and \"rating\" contain an insignificant portion of the data so it drops from the dataset. Finally, we can see that there are no more missing values in the data frame."
   ]
  },
  {
   "cell_type": "markdown",
   "id": "4b7def0e",
   "metadata": {},
   "source": [
    "# ANALYSIS \n",
    "# HOW CONTENT IS DISTRIBUTED\n",
    "Number of Movies or TV Shows?"
   ]
  },
  {
   "cell_type": "markdown",
   "id": "f5c4e2b9",
   "metadata": {},
   "source": [
    "Netflix primarily lists two types of contents -movies and TV-shows on their streaming site."
   ]
  },
  {
   "cell_type": "code",
   "execution_count": 56,
   "id": "a163e5e9",
   "metadata": {},
   "outputs": [
    {
     "data": {
      "image/png": "[encoded data removed]",
      "text/plain": [
       "<Figure size 936x504 with 1 Axes>"
      ]
     },
     "metadata": {},
     "output_type": "display_data"
    }
   ],
   "source": [
    "plt.figure(figsize=(13,7))\n",
    "plt.title(\"Percentage of Netflix Titles that are either Movies or TV Shows\")\n",
    "g = plt.pie(netflix.type.value_counts(), explode=(0.025,0.025), labels=netflix.type.value_counts().index, colors=['Red','Black'],autopct='%1.1f%%', startangle=180);\n",
    "plt.legend()\n",
    "plt.show()"
   ]
  },
  {
   "cell_type": "markdown",
   "id": "7d1789e2",
   "metadata": {},
   "source": [
    "As shown in the Pie chart above it is evident that there are more Movies on Netflix than TV shows."
   ]
  },
  {
   "cell_type": "markdown",
   "id": "ce261294",
   "metadata": {},
   "source": [
    "# Content ratings of the shows"
   ]
  },
  {
   "cell_type": "code",
   "execution_count": 57,
   "id": "d8917f00",
   "metadata": {},
   "outputs": [
    {
     "data": {
      "image/png": "[encoded data removed]",
      "text/plain": [
       "<Figure size 864x720 with 1 Axes>"
      ]
     },
     "metadata": {},
     "output_type": "display_data"
    }
   ],
   "source": [
    "plt.figure(figsize=(12,10))\n",
    "sns.set(style=\"darkgrid\")\n",
    "ax = sns.countplot(x=\"rating\", data=netflix, palette=('Red','Black'), order=netflix['rating'].value_counts().index[0:15])"
   ]
  },
  {
   "cell_type": "markdown",
   "id": "d2470e48",
   "metadata": {},
   "source": [
    "The chart shows that majority of Netflix content whether movies or TV-shows are rated TV-MA. This type of contents are for mature, adult audiences and therefore unsuitable for children. The second highest type of contents are for children that are 14 year-old and above. These are rated TV-14"
   ]
  },
  {
   "cell_type": "markdown",
   "id": "042d1b7b",
   "metadata": {},
   "source": [
    "# Top producing countries"
   ]
  },
  {
   "cell_type": "code",
   "execution_count": 58,
   "id": "f2894a0f",
   "metadata": {},
   "outputs": [
    {
     "data": {
      "image/png": "[encoded data removed]",
      "text/plain": [
       "<Figure size 864x720 with 1 Axes>"
      ]
     },
     "metadata": {},
     "output_type": "display_data"
    }
   ],
   "source": [
    "plt.figure(figsize=(12,10))\n",
    "\n",
    "ax = sns.countplot(y=\"country\", data=netflix, order=netflix['country'].value_counts().index[0:15],palette=('Red','Black'))"
   ]
  },
  {
   "cell_type": "markdown",
   "id": "785cd6f2",
   "metadata": {},
   "source": [
    "United States have highest rated content on the netflix."
   ]
  },
  {
   "cell_type": "markdown",
   "id": "e04ad259",
   "metadata": {},
   "source": [
    "# Movie and Tv Shows with Director Analysis"
   ]
  },
  {
   "cell_type": "code",
   "execution_count": 59,
   "id": "d089f75f",
   "metadata": {},
   "outputs": [
    {
     "data": {
      "text/plain": [
       "Text(0.5, 1.0, '30 Director and their total Movie count')"
      ]
     },
     "execution_count": 59,
     "metadata": {},
     "output_type": "execute_result"
    },
    {
     "data": {
      "image/png": "[encoded data removed]",
      "text/plain": [
       "<Figure size 720x576 with 1 Axes>"
      ]
     },
     "metadata": {},
     "output_type": "display_data"
    }
   ],
   "source": [
    "movie_director = netflix[netflix[\"type\"]==\"Movie\"]\n",
    "directorfilm = movie_director[\"director\"].value_counts()[1:]\n",
    "director_films = pd.DataFrame(directorfilm)\n",
    "\n",
    "director_films[:30].plot(kind=\"bar\",figsize=(10,8),  color='black')\n",
    "plt.title(\"30 Director and their total Movie count\")"
   ]
  },
  {
   "cell_type": "code",
   "execution_count": 60,
   "id": "85417ada",
   "metadata": {},
   "outputs": [
    {
     "data": {
      "text/plain": [
       "Text(0.5, 1.0, '30 Director and their total TV Show count')"
      ]
     },
     "execution_count": 60,
     "metadata": {},
     "output_type": "execute_result"
    },
    {
     "data": {
      "image/png": "[encoded data removed]",
      "text/plain": [
       "<Figure size 720x576 with 1 Axes>"
      ]
     },
     "metadata": {},
     "output_type": "display_data"
    }
   ],
   "source": [
    "tv_director = netflix[netflix[\"type\"]==\"TV Show\"]\n",
    "directortv = tv_director[\"director\"].value_counts()[1:]\n",
    "director_tv = pd.DataFrame(directortv)\n",
    "director_tv[:30].plot(kind=\"bar\", figsize=(10,8),color='red')\n",
    "plt.title(\"30 Director and their total TV Show count\")"
   ]
  },
  {
   "cell_type": "markdown",
   "id": "ef7381a7",
   "metadata": {},
   "source": [
    "The most popular director on Netflix with the most titles\n",
    "Rajiv Chilaka  (Movie)\n",
    "Alastair Fothergill  (TV Show)"
   ]
  },
  {
   "cell_type": "markdown",
   "id": "8b6b5e08",
   "metadata": {},
   "source": [
    "# Netflix Recommendation System"
   ]
  },
  {
   "cell_type": "markdown",
   "id": "f6a38139",
   "metadata": {},
   "source": [
    "For this recommender system history is used to find its similarity with other TV shows. Content-based Filtering is a Machine Learning technique based on the similarity between content that the user has already consumed and the recommended."
   ]
  },
  {
   "cell_type": "code",
   "execution_count": 61,
   "id": "94c00475",
   "metadata": {},
   "outputs": [
    {
     "data": {
      "text/plain": [
       "0                                           Documentaries\n",
       "1         International TV Shows, TV Dramas, TV Mysteries\n",
       "2       Crime TV Shows, International TV Shows, TV Act...\n",
       "3                                  Docuseries, Reality TV\n",
       "4       International TV Shows, Romantic TV Shows, TV ...\n",
       "                              ...                        \n",
       "8802                       Cult Movies, Dramas, Thrillers\n",
       "8803               Kids' TV, Korean TV Shows, TV Comedies\n",
       "8804                              Comedies, Horror Movies\n",
       "8805                   Children & Family Movies, Comedies\n",
       "8806       Dramas, International Movies, Music & Musicals\n",
       "Name: listed_in, Length: 8793, dtype: object"
      ]
     },
     "execution_count": 61,
     "metadata": {},
     "output_type": "execute_result"
    }
   ],
   "source": [
    "netflix[\"listed_in\"]"
   ]
  },
  {
   "cell_type": "markdown",
   "id": "2951497e",
   "metadata": {},
   "source": [
    "Now we will do value counts function to return a Series containing counts of unique values in descending order where the first element is the most frequently-occurring genre. Excludes NA values by default"
   ]
  },
  {
   "cell_type": "code",
   "execution_count": 62,
   "id": "e33898cd",
   "metadata": {},
   "outputs": [
    {
     "data": {
      "text/plain": [
       "Dramas, International Movies                                   362\n",
       "Documentaries                                                  359\n",
       "Stand-Up Comedy                                                334\n",
       "Comedies, Dramas, International Movies                         274\n",
       "Dramas, Independent Movies, International Movies               252\n",
       "                                                              ... \n",
       "Crime TV Shows, International TV Shows, TV Sci-Fi & Fantasy      1\n",
       "International TV Shows, TV Horror, TV Sci-Fi & Fantasy           1\n",
       "Crime TV Shows, Kids' TV                                         1\n",
       "Horror Movies, International Movies, Sci-Fi & Fantasy            1\n",
       "Cult Movies, Dramas, Thrillers                                   1\n",
       "Name: listed_in, Length: 513, dtype: int64"
      ]
     },
     "execution_count": 62,
     "metadata": {},
     "output_type": "execute_result"
    }
   ],
   "source": [
    "netflix[\"listed_in\"].value_counts()"
   ]
  },
  {
   "cell_type": "code",
   "execution_count": 63,
   "id": "161bed0a",
   "metadata": {},
   "outputs": [],
   "source": [
    "genres = pd.get_dummies(netflix[\"listed_in\"])"
   ]
  },
  {
   "cell_type": "code",
   "execution_count": 64,
   "id": "e2af0444",
   "metadata": {},
   "outputs": [],
   "source": [
    "netflix_ext = netflix[[\"title\", \"release_year\"]]"
   ]
  },
  {
   "cell_type": "code",
   "execution_count": 65,
   "id": "f95964cd",
   "metadata": {},
   "outputs": [
    {
     "data": {
      "text/html": [
       "<div>\n",
       "<style scoped>\n",
       "    .dataframe tbody tr th:only-of-type {\n",
       "        vertical-align: middle;\n",
       "    }\n",
       "\n",
       "    .dataframe tbody tr th {\n",
       "        vertical-align: top;\n",
       "    }\n",
       "\n",
       "    .dataframe thead th {\n",
       "        text-align: right;\n",
       "    }\n",
       "</style>\n",
       "<table border=\"1\" class=\"dataframe\">\n",
       "  <thead>\n",
       "    <tr style=\"text-align: right;\">\n",
       "      <th></th>\n",
       "      <th>title</th>\n",
       "      <th>release_year</th>\n",
       "    </tr>\n",
       "  </thead>\n",
       "  <tbody>\n",
       "    <tr>\n",
       "      <th>0</th>\n",
       "      <td>Dick Johnson Is Dead</td>\n",
       "      <td>2020</td>\n",
       "    </tr>\n",
       "    <tr>\n",
       "      <th>1</th>\n",
       "      <td>Blood &amp; Water</td>\n",
       "      <td>2021</td>\n",
       "    </tr>\n",
       "    <tr>\n",
       "      <th>2</th>\n",
       "      <td>Ganglands</td>\n",
       "      <td>2021</td>\n",
       "    </tr>\n",
       "    <tr>\n",
       "      <th>3</th>\n",
       "      <td>Jailbirds New Orleans</td>\n",
       "      <td>2021</td>\n",
       "    </tr>\n",
       "    <tr>\n",
       "      <th>4</th>\n",
       "      <td>Kota Factory</td>\n",
       "      <td>2021</td>\n",
       "    </tr>\n",
       "  </tbody>\n",
       "</table>\n",
       "</div>"
      ],
      "text/plain": [
       "                   title  release_year\n",
       "0   Dick Johnson Is Dead          2020\n",
       "1          Blood & Water          2021\n",
       "2              Ganglands          2021\n",
       "3  Jailbirds New Orleans          2021\n",
       "4           Kota Factory          2021"
      ]
     },
     "execution_count": 65,
     "metadata": {},
     "output_type": "execute_result"
    }
   ],
   "source": [
    "netflix_ext.head()"
   ]
  },
  {
   "cell_type": "code",
   "execution_count": 66,
   "id": "83298a1b",
   "metadata": {},
   "outputs": [],
   "source": [
    "# concating the train data"
   ]
  },
  {
   "cell_type": "code",
   "execution_count": 67,
   "id": "03fc31c3",
   "metadata": {},
   "outputs": [
    {
     "data": {
      "text/html": [
       "<div>\n",
       "<style scoped>\n",
       "    .dataframe tbody tr th:only-of-type {\n",
       "        vertical-align: middle;\n",
       "    }\n",
       "\n",
       "    .dataframe tbody tr th {\n",
       "        vertical-align: top;\n",
       "    }\n",
       "\n",
       "    .dataframe thead th {\n",
       "        text-align: right;\n",
       "    }\n",
       "</style>\n",
       "<table border=\"1\" class=\"dataframe\">\n",
       "  <thead>\n",
       "    <tr style=\"text-align: right;\">\n",
       "      <th></th>\n",
       "      <th>title</th>\n",
       "      <th>release_year</th>\n",
       "      <th>Action &amp; Adventure</th>\n",
       "      <th>Action &amp; Adventure, Anime Features</th>\n",
       "      <th>Action &amp; Adventure, Anime Features, Children &amp; Family Movies</th>\n",
       "      <th>Action &amp; Adventure, Anime Features, Classic Movies</th>\n",
       "      <th>Action &amp; Adventure, Anime Features, Horror Movies</th>\n",
       "      <th>Action &amp; Adventure, Anime Features, International Movies</th>\n",
       "      <th>Action &amp; Adventure, Anime Features, Sci-Fi &amp; Fantasy</th>\n",
       "      <th>Action &amp; Adventure, Children &amp; Family Movies</th>\n",
       "      <th>...</th>\n",
       "      <th>TV Dramas, TV Sci-Fi &amp; Fantasy, Teen TV Shows</th>\n",
       "      <th>TV Dramas, TV Thrillers</th>\n",
       "      <th>TV Dramas, Teen TV Shows</th>\n",
       "      <th>TV Horror, TV Mysteries, TV Sci-Fi &amp; Fantasy</th>\n",
       "      <th>TV Horror, TV Mysteries, TV Thrillers</th>\n",
       "      <th>TV Horror, TV Mysteries, Teen TV Shows</th>\n",
       "      <th>TV Horror, Teen TV Shows</th>\n",
       "      <th>TV Sci-Fi &amp; Fantasy, TV Thrillers</th>\n",
       "      <th>TV Shows</th>\n",
       "      <th>Thrillers</th>\n",
       "    </tr>\n",
       "  </thead>\n",
       "  <tbody>\n",
       "    <tr>\n",
       "      <th>0</th>\n",
       "      <td>Dick Johnson Is Dead</td>\n",
       "      <td>2020</td>\n",
       "      <td>0</td>\n",
       "      <td>0</td>\n",
       "      <td>0</td>\n",
       "      <td>0</td>\n",
       "      <td>0</td>\n",
       "      <td>0</td>\n",
       "      <td>0</td>\n",
       "      <td>0</td>\n",
       "      <td>...</td>\n",
       "      <td>0</td>\n",
       "      <td>0</td>\n",
       "      <td>0</td>\n",
       "      <td>0</td>\n",
       "      <td>0</td>\n",
       "      <td>0</td>\n",
       "      <td>0</td>\n",
       "      <td>0</td>\n",
       "      <td>0</td>\n",
       "      <td>0</td>\n",
       "    </tr>\n",
       "    <tr>\n",
       "      <th>1</th>\n",
       "      <td>Blood &amp; Water</td>\n",
       "      <td>2021</td>\n",
       "      <td>0</td>\n",
       "      <td>0</td>\n",
       "      <td>0</td>\n",
       "      <td>0</td>\n",
       "      <td>0</td>\n",
       "      <td>0</td>\n",
       "      <td>0</td>\n",
       "      <td>0</td>\n",
       "      <td>...</td>\n",
       "      <td>0</td>\n",
       "      <td>0</td>\n",
       "      <td>0</td>\n",
       "      <td>0</td>\n",
       "      <td>0</td>\n",
       "      <td>0</td>\n",
       "      <td>0</td>\n",
       "      <td>0</td>\n",
       "      <td>0</td>\n",
       "      <td>0</td>\n",
       "    </tr>\n",
       "    <tr>\n",
       "      <th>2</th>\n",
       "      <td>Ganglands</td>\n",
       "      <td>2021</td>\n",
       "      <td>0</td>\n",
       "      <td>0</td>\n",
       "      <td>0</td>\n",
       "      <td>0</td>\n",
       "      <td>0</td>\n",
       "      <td>0</td>\n",
       "      <td>0</td>\n",
       "      <td>0</td>\n",
       "      <td>...</td>\n",
       "      <td>0</td>\n",
       "      <td>0</td>\n",
       "      <td>0</td>\n",
       "      <td>0</td>\n",
       "      <td>0</td>\n",
       "      <td>0</td>\n",
       "      <td>0</td>\n",
       "      <td>0</td>\n",
       "      <td>0</td>\n",
       "      <td>0</td>\n",
       "    </tr>\n",
       "    <tr>\n",
       "      <th>3</th>\n",
       "      <td>Jailbirds New Orleans</td>\n",
       "      <td>2021</td>\n",
       "      <td>0</td>\n",
       "      <td>0</td>\n",
       "      <td>0</td>\n",
       "      <td>0</td>\n",
       "      <td>0</td>\n",
       "      <td>0</td>\n",
       "      <td>0</td>\n",
       "      <td>0</td>\n",
       "      <td>...</td>\n",
       "      <td>0</td>\n",
       "      <td>0</td>\n",
       "      <td>0</td>\n",
       "      <td>0</td>\n",
       "      <td>0</td>\n",
       "      <td>0</td>\n",
       "      <td>0</td>\n",
       "      <td>0</td>\n",
       "      <td>0</td>\n",
       "      <td>0</td>\n",
       "    </tr>\n",
       "    <tr>\n",
       "      <th>4</th>\n",
       "      <td>Kota Factory</td>\n",
       "      <td>2021</td>\n",
       "      <td>0</td>\n",
       "      <td>0</td>\n",
       "      <td>0</td>\n",
       "      <td>0</td>\n",
       "      <td>0</td>\n",
       "      <td>0</td>\n",
       "      <td>0</td>\n",
       "      <td>0</td>\n",
       "      <td>...</td>\n",
       "      <td>0</td>\n",
       "      <td>0</td>\n",
       "      <td>0</td>\n",
       "      <td>0</td>\n",
       "      <td>0</td>\n",
       "      <td>0</td>\n",
       "      <td>0</td>\n",
       "      <td>0</td>\n",
       "      <td>0</td>\n",
       "      <td>0</td>\n",
       "    </tr>\n",
       "  </tbody>\n",
       "</table>\n",
       "<p>5 rows × 515 columns</p>\n",
       "</div>"
      ],
      "text/plain": [
       "                   title  release_year  Action & Adventure  \\\n",
       "0   Dick Johnson Is Dead          2020                   0   \n",
       "1          Blood & Water          2021                   0   \n",
       "2              Ganglands          2021                   0   \n",
       "3  Jailbirds New Orleans          2021                   0   \n",
       "4           Kota Factory          2021                   0   \n",
       "\n",
       "   Action & Adventure, Anime Features  \\\n",
       "0                                   0   \n",
       "1                                   0   \n",
       "2                                   0   \n",
       "3                                   0   \n",
       "4                                   0   \n",
       "\n",
       "   Action & Adventure, Anime Features, Children & Family Movies  \\\n",
       "0                                                  0              \n",
       "1                                                  0              \n",
       "2                                                  0              \n",
       "3                                                  0              \n",
       "4                                                  0              \n",
       "\n",
       "   Action & Adventure, Anime Features, Classic Movies  \\\n",
       "0                                                  0    \n",
       "1                                                  0    \n",
       "2                                                  0    \n",
       "3                                                  0    \n",
       "4                                                  0    \n",
       "\n",
       "   Action & Adventure, Anime Features, Horror Movies  \\\n",
       "0                                                  0   \n",
       "1                                                  0   \n",
       "2                                                  0   \n",
       "3                                                  0   \n",
       "4                                                  0   \n",
       "\n",
       "   Action & Adventure, Anime Features, International Movies  \\\n",
       "0                                                  0          \n",
       "1                                                  0          \n",
       "2                                                  0          \n",
       "3                                                  0          \n",
       "4                                                  0          \n",
       "\n",
       "   Action & Adventure, Anime Features, Sci-Fi & Fantasy  \\\n",
       "0                                                  0      \n",
       "1                                                  0      \n",
       "2                                                  0      \n",
       "3                                                  0      \n",
       "4                                                  0      \n",
       "\n",
       "   Action & Adventure, Children & Family Movies  ...  \\\n",
       "0                                             0  ...   \n",
       "1                                             0  ...   \n",
       "2                                             0  ...   \n",
       "3                                             0  ...   \n",
       "4                                             0  ...   \n",
       "\n",
       "   TV Dramas, TV Sci-Fi & Fantasy, Teen TV Shows  TV Dramas, TV Thrillers  \\\n",
       "0                                              0                        0   \n",
       "1                                              0                        0   \n",
       "2                                              0                        0   \n",
       "3                                              0                        0   \n",
       "4                                              0                        0   \n",
       "\n",
       "   TV Dramas, Teen TV Shows  TV Horror, TV Mysteries, TV Sci-Fi & Fantasy  \\\n",
       "0                         0                                             0   \n",
       "1                         0                                             0   \n",
       "2                         0                                             0   \n",
       "3                         0                                             0   \n",
       "4                         0                                             0   \n",
       "\n",
       "   TV Horror, TV Mysteries, TV Thrillers  \\\n",
       "0                                      0   \n",
       "1                                      0   \n",
       "2                                      0   \n",
       "3                                      0   \n",
       "4                                      0   \n",
       "\n",
       "   TV Horror, TV Mysteries, Teen TV Shows  TV Horror, Teen TV Shows  \\\n",
       "0                                       0                         0   \n",
       "1                                       0                         0   \n",
       "2                                       0                         0   \n",
       "3                                       0                         0   \n",
       "4                                       0                         0   \n",
       "\n",
       "   TV Sci-Fi & Fantasy, TV Thrillers  TV Shows  Thrillers  \n",
       "0                                  0         0          0  \n",
       "1                                  0         0          0  \n",
       "2                                  0         0          0  \n",
       "3                                  0         0          0  \n",
       "4                                  0         0          0  \n",
       "\n",
       "[5 rows x 515 columns]"
      ]
     },
     "execution_count": 67,
     "metadata": {},
     "output_type": "execute_result"
    }
   ],
   "source": [
    "train_netflix = pd.concat([netflix_ext, genres], axis = 1)\n",
    "\n",
    "train_netflix.head()"
   ]
  },
  {
   "cell_type": "code",
   "execution_count": 68,
   "id": "912c7a4f",
   "metadata": {},
   "outputs": [],
   "source": [
    "train_netflix.set_index(\"title\", inplace = True)"
   ]
  },
  {
   "cell_type": "code",
   "execution_count": 69,
   "id": "0bcf9a19",
   "metadata": {},
   "outputs": [
    {
     "data": {
      "text/html": [
       "<div>\n",
       "<style scoped>\n",
       "    .dataframe tbody tr th:only-of-type {\n",
       "        vertical-align: middle;\n",
       "    }\n",
       "\n",
       "    .dataframe tbody tr th {\n",
       "        vertical-align: top;\n",
       "    }\n",
       "\n",
       "    .dataframe thead th {\n",
       "        text-align: right;\n",
       "    }\n",
       "</style>\n",
       "<table border=\"1\" class=\"dataframe\">\n",
       "  <thead>\n",
       "    <tr style=\"text-align: right;\">\n",
       "      <th></th>\n",
       "      <th>release_year</th>\n",
       "      <th>Action &amp; Adventure</th>\n",
       "      <th>Action &amp; Adventure, Anime Features</th>\n",
       "      <th>Action &amp; Adventure, Anime Features, Children &amp; Family Movies</th>\n",
       "      <th>Action &amp; Adventure, Anime Features, Classic Movies</th>\n",
       "      <th>Action &amp; Adventure, Anime Features, Horror Movies</th>\n",
       "      <th>Action &amp; Adventure, Anime Features, International Movies</th>\n",
       "      <th>Action &amp; Adventure, Anime Features, Sci-Fi &amp; Fantasy</th>\n",
       "      <th>Action &amp; Adventure, Children &amp; Family Movies</th>\n",
       "      <th>Action &amp; Adventure, Children &amp; Family Movies, Classic Movies</th>\n",
       "      <th>...</th>\n",
       "      <th>TV Dramas, TV Sci-Fi &amp; Fantasy, Teen TV Shows</th>\n",
       "      <th>TV Dramas, TV Thrillers</th>\n",
       "      <th>TV Dramas, Teen TV Shows</th>\n",
       "      <th>TV Horror, TV Mysteries, TV Sci-Fi &amp; Fantasy</th>\n",
       "      <th>TV Horror, TV Mysteries, TV Thrillers</th>\n",
       "      <th>TV Horror, TV Mysteries, Teen TV Shows</th>\n",
       "      <th>TV Horror, Teen TV Shows</th>\n",
       "      <th>TV Sci-Fi &amp; Fantasy, TV Thrillers</th>\n",
       "      <th>TV Shows</th>\n",
       "      <th>Thrillers</th>\n",
       "    </tr>\n",
       "    <tr>\n",
       "      <th>title</th>\n",
       "      <th></th>\n",
       "      <th></th>\n",
       "      <th></th>\n",
       "      <th></th>\n",
       "      <th></th>\n",
       "      <th></th>\n",
       "      <th></th>\n",
       "      <th></th>\n",
       "      <th></th>\n",
       "      <th></th>\n",
       "      <th></th>\n",
       "      <th></th>\n",
       "      <th></th>\n",
       "      <th></th>\n",
       "      <th></th>\n",
       "      <th></th>\n",
       "      <th></th>\n",
       "      <th></th>\n",
       "      <th></th>\n",
       "      <th></th>\n",
       "      <th></th>\n",
       "    </tr>\n",
       "  </thead>\n",
       "  <tbody>\n",
       "    <tr>\n",
       "      <th>Dick Johnson Is Dead</th>\n",
       "      <td>2020</td>\n",
       "      <td>0</td>\n",
       "      <td>0</td>\n",
       "      <td>0</td>\n",
       "      <td>0</td>\n",
       "      <td>0</td>\n",
       "      <td>0</td>\n",
       "      <td>0</td>\n",
       "      <td>0</td>\n",
       "      <td>0</td>\n",
       "      <td>...</td>\n",
       "      <td>0</td>\n",
       "      <td>0</td>\n",
       "      <td>0</td>\n",
       "      <td>0</td>\n",
       "      <td>0</td>\n",
       "      <td>0</td>\n",
       "      <td>0</td>\n",
       "      <td>0</td>\n",
       "      <td>0</td>\n",
       "      <td>0</td>\n",
       "    </tr>\n",
       "    <tr>\n",
       "      <th>Blood &amp; Water</th>\n",
       "      <td>2021</td>\n",
       "      <td>0</td>\n",
       "      <td>0</td>\n",
       "      <td>0</td>\n",
       "      <td>0</td>\n",
       "      <td>0</td>\n",
       "      <td>0</td>\n",
       "      <td>0</td>\n",
       "      <td>0</td>\n",
       "      <td>0</td>\n",
       "      <td>...</td>\n",
       "      <td>0</td>\n",
       "      <td>0</td>\n",
       "      <td>0</td>\n",
       "      <td>0</td>\n",
       "      <td>0</td>\n",
       "      <td>0</td>\n",
       "      <td>0</td>\n",
       "      <td>0</td>\n",
       "      <td>0</td>\n",
       "      <td>0</td>\n",
       "    </tr>\n",
       "    <tr>\n",
       "      <th>Ganglands</th>\n",
       "      <td>2021</td>\n",
       "      <td>0</td>\n",
       "      <td>0</td>\n",
       "      <td>0</td>\n",
       "      <td>0</td>\n",
       "      <td>0</td>\n",
       "      <td>0</td>\n",
       "      <td>0</td>\n",
       "      <td>0</td>\n",
       "      <td>0</td>\n",
       "      <td>...</td>\n",
       "      <td>0</td>\n",
       "      <td>0</td>\n",
       "      <td>0</td>\n",
       "      <td>0</td>\n",
       "      <td>0</td>\n",
       "      <td>0</td>\n",
       "      <td>0</td>\n",
       "      <td>0</td>\n",
       "      <td>0</td>\n",
       "      <td>0</td>\n",
       "    </tr>\n",
       "    <tr>\n",
       "      <th>Jailbirds New Orleans</th>\n",
       "      <td>2021</td>\n",
       "      <td>0</td>\n",
       "      <td>0</td>\n",
       "      <td>0</td>\n",
       "      <td>0</td>\n",
       "      <td>0</td>\n",
       "      <td>0</td>\n",
       "      <td>0</td>\n",
       "      <td>0</td>\n",
       "      <td>0</td>\n",
       "      <td>...</td>\n",
       "      <td>0</td>\n",
       "      <td>0</td>\n",
       "      <td>0</td>\n",
       "      <td>0</td>\n",
       "      <td>0</td>\n",
       "      <td>0</td>\n",
       "      <td>0</td>\n",
       "      <td>0</td>\n",
       "      <td>0</td>\n",
       "      <td>0</td>\n",
       "    </tr>\n",
       "    <tr>\n",
       "      <th>Kota Factory</th>\n",
       "      <td>2021</td>\n",
       "      <td>0</td>\n",
       "      <td>0</td>\n",
       "      <td>0</td>\n",
       "      <td>0</td>\n",
       "      <td>0</td>\n",
       "      <td>0</td>\n",
       "      <td>0</td>\n",
       "      <td>0</td>\n",
       "      <td>0</td>\n",
       "      <td>...</td>\n",
       "      <td>0</td>\n",
       "      <td>0</td>\n",
       "      <td>0</td>\n",
       "      <td>0</td>\n",
       "      <td>0</td>\n",
       "      <td>0</td>\n",
       "      <td>0</td>\n",
       "      <td>0</td>\n",
       "      <td>0</td>\n",
       "      <td>0</td>\n",
       "    </tr>\n",
       "  </tbody>\n",
       "</table>\n",
       "<p>5 rows × 514 columns</p>\n",
       "</div>"
      ],
      "text/plain": [
       "                       release_year  Action & Adventure  \\\n",
       "title                                                     \n",
       "Dick Johnson Is Dead           2020                   0   \n",
       "Blood & Water                  2021                   0   \n",
       "Ganglands                      2021                   0   \n",
       "Jailbirds New Orleans          2021                   0   \n",
       "Kota Factory                   2021                   0   \n",
       "\n",
       "                       Action & Adventure, Anime Features  \\\n",
       "title                                                       \n",
       "Dick Johnson Is Dead                                    0   \n",
       "Blood & Water                                           0   \n",
       "Ganglands                                               0   \n",
       "Jailbirds New Orleans                                   0   \n",
       "Kota Factory                                            0   \n",
       "\n",
       "                       Action & Adventure, Anime Features, Children & Family Movies  \\\n",
       "title                                                                                 \n",
       "Dick Johnson Is Dead                                                   0              \n",
       "Blood & Water                                                          0              \n",
       "Ganglands                                                              0              \n",
       "Jailbirds New Orleans                                                  0              \n",
       "Kota Factory                                                           0              \n",
       "\n",
       "                       Action & Adventure, Anime Features, Classic Movies  \\\n",
       "title                                                                       \n",
       "Dick Johnson Is Dead                                                   0    \n",
       "Blood & Water                                                          0    \n",
       "Ganglands                                                              0    \n",
       "Jailbirds New Orleans                                                  0    \n",
       "Kota Factory                                                           0    \n",
       "\n",
       "                       Action & Adventure, Anime Features, Horror Movies  \\\n",
       "title                                                                      \n",
       "Dick Johnson Is Dead                                                   0   \n",
       "Blood & Water                                                          0   \n",
       "Ganglands                                                              0   \n",
       "Jailbirds New Orleans                                                  0   \n",
       "Kota Factory                                                           0   \n",
       "\n",
       "                       Action & Adventure, Anime Features, International Movies  \\\n",
       "title                                                                             \n",
       "Dick Johnson Is Dead                                                   0          \n",
       "Blood & Water                                                          0          \n",
       "Ganglands                                                              0          \n",
       "Jailbirds New Orleans                                                  0          \n",
       "Kota Factory                                                           0          \n",
       "\n",
       "                       Action & Adventure, Anime Features, Sci-Fi & Fantasy  \\\n",
       "title                                                                         \n",
       "Dick Johnson Is Dead                                                   0      \n",
       "Blood & Water                                                          0      \n",
       "Ganglands                                                              0      \n",
       "Jailbirds New Orleans                                                  0      \n",
       "Kota Factory                                                           0      \n",
       "\n",
       "                       Action & Adventure, Children & Family Movies  \\\n",
       "title                                                                 \n",
       "Dick Johnson Is Dead                                              0   \n",
       "Blood & Water                                                     0   \n",
       "Ganglands                                                         0   \n",
       "Jailbirds New Orleans                                             0   \n",
       "Kota Factory                                                      0   \n",
       "\n",
       "                       Action & Adventure, Children & Family Movies, Classic Movies  \\\n",
       "title                                                                                 \n",
       "Dick Johnson Is Dead                                                   0              \n",
       "Blood & Water                                                          0              \n",
       "Ganglands                                                              0              \n",
       "Jailbirds New Orleans                                                  0              \n",
       "Kota Factory                                                           0              \n",
       "\n",
       "                       ...  TV Dramas, TV Sci-Fi & Fantasy, Teen TV Shows  \\\n",
       "title                  ...                                                  \n",
       "Dick Johnson Is Dead   ...                                              0   \n",
       "Blood & Water          ...                                              0   \n",
       "Ganglands              ...                                              0   \n",
       "Jailbirds New Orleans  ...                                              0   \n",
       "Kota Factory           ...                                              0   \n",
       "\n",
       "                       TV Dramas, TV Thrillers  TV Dramas, Teen TV Shows  \\\n",
       "title                                                                      \n",
       "Dick Johnson Is Dead                         0                         0   \n",
       "Blood & Water                                0                         0   \n",
       "Ganglands                                    0                         0   \n",
       "Jailbirds New Orleans                        0                         0   \n",
       "Kota Factory                                 0                         0   \n",
       "\n",
       "                       TV Horror, TV Mysteries, TV Sci-Fi & Fantasy  \\\n",
       "title                                                                 \n",
       "Dick Johnson Is Dead                                              0   \n",
       "Blood & Water                                                     0   \n",
       "Ganglands                                                         0   \n",
       "Jailbirds New Orleans                                             0   \n",
       "Kota Factory                                                      0   \n",
       "\n",
       "                       TV Horror, TV Mysteries, TV Thrillers  \\\n",
       "title                                                          \n",
       "Dick Johnson Is Dead                                       0   \n",
       "Blood & Water                                              0   \n",
       "Ganglands                                                  0   \n",
       "Jailbirds New Orleans                                      0   \n",
       "Kota Factory                                               0   \n",
       "\n",
       "                       TV Horror, TV Mysteries, Teen TV Shows  \\\n",
       "title                                                           \n",
       "Dick Johnson Is Dead                                        0   \n",
       "Blood & Water                                               0   \n",
       "Ganglands                                                   0   \n",
       "Jailbirds New Orleans                                       0   \n",
       "Kota Factory                                                0   \n",
       "\n",
       "                       TV Horror, Teen TV Shows  \\\n",
       "title                                             \n",
       "Dick Johnson Is Dead                          0   \n",
       "Blood & Water                                 0   \n",
       "Ganglands                                     0   \n",
       "Jailbirds New Orleans                         0   \n",
       "Kota Factory                                  0   \n",
       "\n",
       "                       TV Sci-Fi & Fantasy, TV Thrillers  TV Shows  Thrillers  \n",
       "title                                                                          \n",
       "Dick Johnson Is Dead                                   0         0          0  \n",
       "Blood & Water                                          0         0          0  \n",
       "Ganglands                                              0         0          0  \n",
       "Jailbirds New Orleans                                  0         0          0  \n",
       "Kota Factory                                           0         0          0  \n",
       "\n",
       "[5 rows x 514 columns]"
      ]
     },
     "execution_count": 69,
     "metadata": {},
     "output_type": "execute_result"
    }
   ],
   "source": [
    "train_netflix.head()"
   ]
  },
  {
   "cell_type": "code",
   "execution_count": 70,
   "id": "f6b35e07",
   "metadata": {},
   "outputs": [],
   "source": [
    "from sklearn.preprocessing import MinMaxScaler\n",
    "scaler = MinMaxScaler()\n",
    "\n",
    "scaled_netflix = scaler.fit_transform(train_netflix)"
   ]
  },
  {
   "cell_type": "code",
   "execution_count": 71,
   "id": "585d939a",
   "metadata": {},
   "outputs": [],
   "source": [
    "from sklearn import neighbors\n",
    "\n",
    "model = neighbors.NearestNeighbors(n_neighbors= 5)\n",
    "\n",
    "model.fit(scaled_netflix)\n",
    "\n",
    "dist, idlist = model.kneighbors(scaled_netflix)"
   ]
  },
  {
   "cell_type": "code",
   "execution_count": 72,
   "id": "4612b9ad",
   "metadata": {},
   "outputs": [
    {
     "data": {
      "text/plain": [
       "array([ 734,    2,   11, 1223, 2676])"
      ]
     },
     "execution_count": 72,
     "metadata": {},
     "output_type": "execute_result"
    }
   ],
   "source": [
    "idlist[2]"
   ]
  },
  {
   "cell_type": "code",
   "execution_count": 73,
   "id": "c30ec561",
   "metadata": {},
   "outputs": [],
   "source": [
    "def recommending_per_watch_history(name):\n",
    "  netflix_list = []\n",
    "  netflixx = netflix[netflix[\"title\"] == name].index\n",
    "\n",
    "  netflixx = netflixx[0]\n",
    "  for id in idlist[netflixx]:\n",
    "    netflix_list.append(netflix.loc[id].title)\n",
    "  return netflix_list"
   ]
  },
  {
   "cell_type": "code",
   "execution_count": 74,
   "id": "b8dd6d5a",
   "metadata": {},
   "outputs": [
    {
     "data": {
      "text/plain": [
       "['DASH & LILY',\n",
       " 'The Baker and the Beauty',\n",
       " 'Emily in Paris',\n",
       " 'On My Block',\n",
       " 'Ginny & Georgia']"
      ]
     },
     "execution_count": 74,
     "metadata": {},
     "output_type": "execute_result"
    }
   ],
   "source": [
    "recommending_per_watch_history(\"Emily in Paris\")"
   ]
  },
  {
   "cell_type": "code",
   "execution_count": 75,
   "id": "c7d0bc9b",
   "metadata": {},
   "outputs": [
    {
     "data": {
      "text/plain": [
       "['The Ingenuity of the Househusband',\n",
       " \"Workin' Moms\",\n",
       " \"Creator's File: GOLD\",\n",
       " 'Why Are You Like This',\n",
       " 'Masameer County']"
      ]
     },
     "execution_count": 75,
     "metadata": {},
     "output_type": "execute_result"
    }
   ],
   "source": [
    "recommending_per_watch_history(\"Workin' Moms\")"
   ]
  },
  {
   "cell_type": "code",
   "execution_count": 76,
   "id": "a627bb5a",
   "metadata": {},
   "outputs": [
    {
     "data": {
      "text/plain": [
       "['Lupin', 'Ganglands', 'Bangkok Breaking', 'Dealer', 'Fauda']"
      ]
     },
     "execution_count": 76,
     "metadata": {},
     "output_type": "execute_result"
    }
   ],
   "source": [
    "recommending_per_watch_history(\"Lupin\")"
   ]
  },
  {
   "cell_type": "code",
   "execution_count": 77,
   "id": "e95e5db5",
   "metadata": {},
   "outputs": [
    {
     "data": {
      "text/plain": [
       "['The Prince of Tennis ~ Match! Tennis Juniors ~',\n",
       " 'Candy Online',\n",
       " 'Anne with an E',\n",
       " 'Baby',\n",
       " 'Love 101']"
      ]
     },
     "execution_count": 77,
     "metadata": {},
     "output_type": "execute_result"
    }
   ],
   "source": [
    "recommending_per_watch_history(\"Anne with an E\")"
   ]
  },
  {
   "cell_type": "code",
   "execution_count": null,
   "id": "6f9f8f04",
   "metadata": {},
   "outputs": [],
   "source": []
  }
 ],
 "metadata": {
  "kernelspec": {
   "display_name": "Python 3 (ipykernel)",
   "language": "python",
   "name": "python3"
  },
  "language_info": {
   "codemirror_mode": {
    "name": "ipython",
    "version": 3
   },
   "file_extension": ".py",
   "mimetype": "text/x-python",
   "name": "python",
   "nbconvert_exporter": "python",
   "pygments_lexer": "ipython3",
   "version": "3.9.7"
  }
 },
 "nbformat": 4,
 "nbformat_minor": 5
}
